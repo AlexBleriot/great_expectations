{
 "cells": [
  {
   "cell_type": "code",
   "execution_count": 50,
   "id": "1e988c39",
   "metadata": {},
   "outputs": [],
   "source": [
    "import great_expectations as gx"
   ]
  },
  {
   "cell_type": "code",
   "execution_count": 51,
   "id": "72f26a87",
   "metadata": {},
   "outputs": [],
   "source": [
    "from great_expectations.checkpoint.types.checkpoint_result import CheckpointResult\n",
    "from great_expectations.core.batch import BatchRequest"
   ]
  },
  {
   "cell_type": "code",
   "execution_count": 52,
   "id": "7b0efad8",
   "metadata": {},
   "outputs": [],
   "source": [
    "context = gx.get_context()"
   ]
  },
  {
   "cell_type": "markdown",
   "id": "9f9ab26c",
   "metadata": {},
   "source": [
    "`batch_request` for retrieving `event_names` table"
   ]
  },
  {
   "cell_type": "code",
   "execution_count": 53,
   "id": "54940668",
   "metadata": {},
   "outputs": [],
   "source": [
    "batch_request: BatchRequest = BatchRequest(\n",
    "    **{\n",
    "        \"datasource_name\": \"my_datasource\",\n",
    "        \"data_connector_name\": \"my_sql_data_connector\",\n",
    "        \"data_asset_name\": \"trip_data\",\n",
    "    }\n",
    ")\n"
   ]
  },
  {
   "cell_type": "markdown",
   "id": "8bfa05b0",
   "metadata": {},
   "source": [
    "`checkpoint` configuration "
   ]
  },
  {
   "cell_type": "code",
   "execution_count": 54,
   "id": "423abecb",
   "metadata": {},
   "outputs": [],
   "source": [
    "checkpoint_config: dict = {\n",
    "    \"class_name\": \"Checkpoint\",\n",
    "    \"name\": \"my_taxi_checkpoint\",\n",
    "    \"config_version\": 1,\n",
    "    \"module_name\": \"great_expectations.checkpoint\",\n",
    "    \"run_name_template\": \"%Y-%M-foo-bar-template\",\n",
    "    \"expectation_suite_name\": \"taxi_exp\",\n",
    "    \"action_list\": [\n",
    "        {\n",
    "            \"name\": \"store_validation_result\",\n",
    "            \"action\": {\n",
    "                \"class_name\": \"StoreValidationResultAction\",\n",
    "            },\n",
    "        },\n",
    "        {\n",
    "            \"name\": \"store_evaluation_params\",\n",
    "            \"action\": {\n",
    "                \"class_name\": \"StoreEvaluationParametersAction\",\n",
    "            },\n",
    "        },\n",
    "        {\n",
    "            \"name\": \"update_data_docs\",\n",
    "            \"action\": {\n",
    "                \"class_name\": \"UpdateDataDocsAction\",\n",
    "            },\n",
    "        },\n",
    "    ],\n",
    "    \"validations\": [\n",
    "        {\n",
    "            \"batch_request\": batch_request,\n",
    "        }\n",
    "    ],\n",
    "}"
   ]
  },
  {
   "cell_type": "code",
   "execution_count": 55,
   "id": "74e188c7",
   "metadata": {},
   "outputs": [
    {
     "data": {
      "text/plain": [
       "{\n",
       "  \"action_list\": [\n",
       "    {\n",
       "      \"name\": \"store_validation_result\",\n",
       "      \"action\": {\n",
       "        \"class_name\": \"StoreValidationResultAction\"\n",
       "      }\n",
       "    },\n",
       "    {\n",
       "      \"name\": \"store_evaluation_params\",\n",
       "      \"action\": {\n",
       "        \"class_name\": \"StoreEvaluationParametersAction\"\n",
       "      }\n",
       "    },\n",
       "    {\n",
       "      \"name\": \"update_data_docs\",\n",
       "      \"action\": {\n",
       "        \"class_name\": \"UpdateDataDocsAction\"\n",
       "      }\n",
       "    }\n",
       "  ],\n",
       "  \"batch_request\": {},\n",
       "  \"class_name\": \"Checkpoint\",\n",
       "  \"config_version\": 1,\n",
       "  \"evaluation_parameters\": {},\n",
       "  \"expectation_suite_name\": \"taxi_exp\",\n",
       "  \"module_name\": \"great_expectations.checkpoint\",\n",
       "  \"name\": \"my_taxi_checkpoint\",\n",
       "  \"profilers\": [],\n",
       "  \"run_name_template\": \"%Y-%M-foo-bar-template\",\n",
       "  \"runtime_configuration\": {},\n",
       "  \"validations\": [\n",
       "    {\n",
       "      \"batch_request\": {\n",
       "        \"datasource_name\": \"my_datasource\",\n",
       "        \"data_connector_name\": \"my_sql_data_connector\",\n",
       "        \"data_asset_name\": \"trip_data\"\n",
       "      }\n",
       "    }\n",
       "  ]\n",
       "}"
      ]
     },
     "execution_count": 55,
     "metadata": {},
     "output_type": "execute_result"
    }
   ],
   "source": [
    "context.add_checkpoint(**checkpoint_config)"
   ]
  },
  {
   "cell_type": "markdown",
   "id": "5e16ecdc",
   "metadata": {},
   "source": [
    "# Example 1: \n",
    "* `unexpected_index_column_names` not configured."
   ]
  },
  {
   "cell_type": "code",
   "execution_count": 56,
   "id": "28b3140f",
   "metadata": {},
   "outputs": [
    {
     "data": {
      "application/vnd.jupyter.widget-view+json": {
       "model_id": "75218903584944d98a283532aaa92031",
       "version_major": 2,
       "version_minor": 0
      },
      "text/plain": [
       "Calculating Metrics:   0%|          | 0/13 [00:00<?, ?it/s]"
      ]
     },
     "metadata": {},
     "output_type": "display_data"
    }
   ],
   "source": [
    "results = context.run_checkpoint(checkpoint_name=\"my_taxi_checkpoint\")"
   ]
  },
  {
   "cell_type": "code",
   "execution_count": 57,
   "id": "5deb7e49",
   "metadata": {},
   "outputs": [],
   "source": [
    "evrs = results.list_validation_results()"
   ]
  },
  {
   "cell_type": "code",
   "execution_count": 58,
   "id": "069ae58d",
   "metadata": {},
   "outputs": [
    {
     "data": {
      "text/plain": [
       "{'observed_value': 13.195800000000002}"
      ]
     },
     "execution_count": 58,
     "metadata": {},
     "output_type": "execute_result"
    }
   ],
   "source": [
    "evrs[0][\"results\"][0][\"result\"]"
   ]
  },
  {
   "cell_type": "code",
   "execution_count": 59,
   "id": "adcb41ca",
   "metadata": {},
   "outputs": [],
   "source": [
    "context.open_data_docs()"
   ]
  },
  {
   "cell_type": "markdown",
   "id": "22056143",
   "metadata": {},
   "source": [
    "# Example 2:\n",
    "* Single `unexpected_index_column_names` configured."
   ]
  },
  {
   "cell_type": "code",
   "execution_count": 60,
   "id": "0b165b44",
   "metadata": {},
   "outputs": [],
   "source": [
    "result_format: dict = {\n",
    "    \"result_format\": \"COMPLETE\",\n",
    "    \"unexpected_index_column_names\": [\"Key\"],\n",
    "    # \"return_unexpected_index_query\" : False  # unexpected_index_query is returned by default. Uncommenting this line will suppress the output. \n",
    "}\n"
   ]
  },
  {
   "cell_type": "code",
   "execution_count": 62,
   "id": "a156aa51",
   "metadata": {},
   "outputs": [
    {
     "data": {
      "application/vnd.jupyter.widget-view+json": {
       "model_id": "9ad9203734e442e39c855fa60400b652",
       "version_major": 2,
       "version_minor": 0
      },
      "text/plain": [
       "Calculating Metrics:   0%|          | 0/15 [00:00<?, ?it/s]"
      ]
     },
     "metadata": {},
     "output_type": "display_data"
    }
   ],
   "source": [
    "results: CheckpointResult = context.run_checkpoint(\n",
    "    checkpoint_name=\"my_taxi_checkpoint\", result_format=result_format\n",
    ")"
   ]
  },
  {
   "cell_type": "markdown",
   "id": "e5476f04",
   "metadata": {},
   "source": []
  },
  {
   "cell_type": "code",
   "execution_count": 63,
   "id": "792fc1b9",
   "metadata": {},
   "outputs": [],
   "source": [
    "evrs = results.list_validation_results()"
   ]
  },
  {
   "cell_type": "code",
   "execution_count": 64,
   "id": "7b08cbad",
   "metadata": {},
   "outputs": [
    {
     "data": {
      "text/plain": [
       "{'observed_value': 13.195800000000002}"
      ]
     },
     "execution_count": 64,
     "metadata": {},
     "output_type": "execute_result"
    }
   ],
   "source": [
    "evrs[0][\"results\"][0][\"result\"]"
   ]
  },
  {
   "cell_type": "code",
   "execution_count": 65,
   "id": "683abbf9",
   "metadata": {},
   "outputs": [],
   "source": [
    "context.open_data_docs()"
   ]
  },
  {
   "cell_type": "markdown",
   "id": "cc280c63",
   "metadata": {},
   "source": [
    "# Example 3:\n",
    "* Multiple `unexpected_index_column_names` configured."
   ]
  },
  {
   "cell_type": "code",
   "execution_count": null,
   "id": "9092944e",
   "metadata": {},
   "outputs": [],
   "source": [
    "result_format: dict = {\n",
    "    \"result_format\": \"COMPLETE\",\n",
    "    \"unexpected_index_column_names\": [\"event_id\", \"visit_id\"],\n",
    "    # \"return_unexpected_index_query\" : False  # unexpected_index_query is returned by default. Uncommenting this line will suppress the output. \n",
    "}\n"
   ]
  },
  {
   "cell_type": "code",
   "execution_count": null,
   "id": "eb2c1f53",
   "metadata": {},
   "outputs": [],
   "source": [
    "results: CheckpointResult = context.run_checkpoint(\n",
    "    checkpoint_name=\"my_checkpoint\", result_format=result_format\n",
    ")"
   ]
  },
  {
   "cell_type": "code",
   "execution_count": null,
   "id": "cf1be4a3",
   "metadata": {},
   "outputs": [],
   "source": [
    "evrs = results.list_validation_results()"
   ]
  },
  {
   "cell_type": "code",
   "execution_count": null,
   "id": "f2d84ac3",
   "metadata": {},
   "outputs": [],
   "source": [
    "evrs[0][\"results\"][0][\"result\"]"
   ]
  },
  {
   "cell_type": "code",
   "execution_count": null,
   "id": "79196aeb",
   "metadata": {},
   "outputs": [],
   "source": [
    "context.open_data_docs()"
   ]
  }
 ],
 "metadata": {
  "kernelspec": {
   "display_name": "supercon_ge",
   "language": "python",
   "name": "python3"
  },
  "language_info": {
   "codemirror_mode": {
    "name": "ipython",
    "version": 3
   },
   "file_extension": ".py",
   "mimetype": "text/x-python",
   "name": "python",
   "nbconvert_exporter": "python",
   "pygments_lexer": "ipython3",
   "version": "3.9.13"
  },
  "vscode": {
   "interpreter": {
    "hash": "54fe8908c41bde18bcb58301c79a57eacff69e9a948510ab6efc8dfd7d7953b6"
   }
  }
 },
 "nbformat": 4,
 "nbformat_minor": 5
}
