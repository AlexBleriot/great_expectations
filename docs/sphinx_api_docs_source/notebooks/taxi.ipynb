{
 "cells": [
  {
   "cell_type": "markdown",
   "source": [
    "# Demo Notebook"
   ],
   "metadata": {
    "collapsed": false,
    "pycharm": {
     "name": "#%% md\n"
    }
   }
  },
  {
   "cell_type": "code",
   "execution_count": 2,
   "outputs": [],
   "source": [
    "import pandas as pd"
   ],
   "metadata": {
    "collapsed": false,
    "pycharm": {
     "name": "#%%\n"
    }
   }
  },
  {
   "cell_type": "code",
   "execution_count": 3,
   "outputs": [],
   "source": [
    "sample_nyc_taxi_dataset_url = \"https://raw.githubusercontent.com/great-expectations/great_expectations/develop/tests/test_sets/taxi_yellow_tripdata_samples/yellow_tripdata_sample_2020-12.csv\""
   ],
   "metadata": {
    "collapsed": false,
    "pycharm": {
     "name": "#%%\n"
    }
   }
  },
  {
   "cell_type": "code",
   "execution_count": 4,
   "outputs": [],
   "source": [
    "df = pd.read_csv(sample_nyc_taxi_dataset_url)"
   ],
   "metadata": {
    "collapsed": false,
    "pycharm": {
     "name": "#%%\n"
    }
   }
  },
  {
   "cell_type": "code",
   "execution_count": 5,
   "outputs": [
    {
     "data": {
      "text/plain": "Index(['vendor_id', 'pickup_datetime', 'dropoff_datetime', 'passenger_count',\n       'trip_distance', 'rate_code_id', 'store_and_fwd_flag',\n       'pickup_location_id', 'dropoff_location_id', 'payment_type',\n       'fare_amount', 'extra', 'mta_tax', 'tip_amount', 'tolls_amount',\n       'improvement_surcharge', 'total_amount', 'congestion_surcharge'],\n      dtype='object')"
     },
     "execution_count": 5,
     "metadata": {},
     "output_type": "execute_result"
    }
   ],
   "source": [
    "df.columns"
   ],
   "metadata": {
    "collapsed": false,
    "pycharm": {
     "name": "#%%\n"
    }
   }
  },
  {
   "cell_type": "code",
   "execution_count": 6,
   "outputs": [
    {
     "data": {
      "text/plain": "passenger_count\n0.0     194\n1.0    7056\n2.0    1215\n3.0     339\n4.0     112\n5.0     236\n6.0     174\ndtype: int64"
     },
     "execution_count": 6,
     "metadata": {},
     "output_type": "execute_result"
    }
   ],
   "source": [
    "df.value_counts(\"passenger_count\").sort_index()"
   ],
   "metadata": {
    "collapsed": false,
    "pycharm": {
     "name": "#%%\n"
    }
   }
  },
  {
   "cell_type": "markdown",
   "source": [
    "### Some weird rendering with long column names:"
   ],
   "metadata": {
    "collapsed": false,
    "pycharm": {
     "name": "#%% md\n"
    }
   }
  },
  {
   "cell_type": "code",
   "execution_count": 7,
   "outputs": [
    {
     "data": {
      "text/plain": "   vendor_id      pickup_datetime     dropoff_datetime  passenger_count  \\\n0        2.0  2020-12-15 12:20:27  2020-12-15 12:40:49              4.0   \n1        2.0  2020-12-28 12:51:25  2020-12-28 13:15:12              1.0   \n2        2.0  2020-12-27 10:43:42  2020-12-27 10:51:05              1.0   \n3        2.0  2020-12-08 13:42:52  2020-12-08 13:54:45              1.0   \n4        2.0  2020-12-19 11:56:43  2020-12-19 12:08:43              1.0   \n\n   trip_distance  rate_code_id store_and_fwd_flag  pickup_location_id  \\\n0           5.76           1.0                  N                 209   \n1          11.64           1.0                  N                 161   \n2           1.22           1.0                  N                 163   \n3           1.84           1.0                  N                 137   \n4           1.55           1.0                  N                  24   \n\n   dropoff_location_id  payment_type  fare_amount  extra  mta_tax  tip_amount  \\\n0                  237           1.0         21.0    0.0      0.5        2.50   \n1                  220           1.0         33.5    0.0      0.5        5.00   \n2                   48           1.0          7.0    0.0      0.5        2.06   \n3                  229           2.0          9.0    0.0      0.5        0.00   \n4                   74           1.0          9.5    0.0      0.5        2.58   \n\n   tolls_amount  improvement_surcharge  total_amount  congestion_surcharge  \n0           0.0                    0.3         26.80                   2.5  \n1           2.8                    0.3         44.60                   2.5  \n2           0.0                    0.3         12.36                   2.5  \n3           0.0                    0.3         12.30                   2.5  \n4           0.0                    0.3         12.88                   0.0  ",
      "text/html": "<div>\n<style scoped>\n    .dataframe tbody tr th:only-of-type {\n        vertical-align: middle;\n    }\n\n    .dataframe tbody tr th {\n        vertical-align: top;\n    }\n\n    .dataframe thead th {\n        text-align: right;\n    }\n</style>\n<table border=\"1\" class=\"dataframe\">\n  <thead>\n    <tr style=\"text-align: right;\">\n      <th></th>\n      <th>vendor_id</th>\n      <th>pickup_datetime</th>\n      <th>dropoff_datetime</th>\n      <th>passenger_count</th>\n      <th>trip_distance</th>\n      <th>rate_code_id</th>\n      <th>store_and_fwd_flag</th>\n      <th>pickup_location_id</th>\n      <th>dropoff_location_id</th>\n      <th>payment_type</th>\n      <th>fare_amount</th>\n      <th>extra</th>\n      <th>mta_tax</th>\n      <th>tip_amount</th>\n      <th>tolls_amount</th>\n      <th>improvement_surcharge</th>\n      <th>total_amount</th>\n      <th>congestion_surcharge</th>\n    </tr>\n  </thead>\n  <tbody>\n    <tr>\n      <th>0</th>\n      <td>2.0</td>\n      <td>2020-12-15 12:20:27</td>\n      <td>2020-12-15 12:40:49</td>\n      <td>4.0</td>\n      <td>5.76</td>\n      <td>1.0</td>\n      <td>N</td>\n      <td>209</td>\n      <td>237</td>\n      <td>1.0</td>\n      <td>21.0</td>\n      <td>0.0</td>\n      <td>0.5</td>\n      <td>2.50</td>\n      <td>0.0</td>\n      <td>0.3</td>\n      <td>26.80</td>\n      <td>2.5</td>\n    </tr>\n    <tr>\n      <th>1</th>\n      <td>2.0</td>\n      <td>2020-12-28 12:51:25</td>\n      <td>2020-12-28 13:15:12</td>\n      <td>1.0</td>\n      <td>11.64</td>\n      <td>1.0</td>\n      <td>N</td>\n      <td>161</td>\n      <td>220</td>\n      <td>1.0</td>\n      <td>33.5</td>\n      <td>0.0</td>\n      <td>0.5</td>\n      <td>5.00</td>\n      <td>2.8</td>\n      <td>0.3</td>\n      <td>44.60</td>\n      <td>2.5</td>\n    </tr>\n    <tr>\n      <th>2</th>\n      <td>2.0</td>\n      <td>2020-12-27 10:43:42</td>\n      <td>2020-12-27 10:51:05</td>\n      <td>1.0</td>\n      <td>1.22</td>\n      <td>1.0</td>\n      <td>N</td>\n      <td>163</td>\n      <td>48</td>\n      <td>1.0</td>\n      <td>7.0</td>\n      <td>0.0</td>\n      <td>0.5</td>\n      <td>2.06</td>\n      <td>0.0</td>\n      <td>0.3</td>\n      <td>12.36</td>\n      <td>2.5</td>\n    </tr>\n    <tr>\n      <th>3</th>\n      <td>2.0</td>\n      <td>2020-12-08 13:42:52</td>\n      <td>2020-12-08 13:54:45</td>\n      <td>1.0</td>\n      <td>1.84</td>\n      <td>1.0</td>\n      <td>N</td>\n      <td>137</td>\n      <td>229</td>\n      <td>2.0</td>\n      <td>9.0</td>\n      <td>0.0</td>\n      <td>0.5</td>\n      <td>0.00</td>\n      <td>0.0</td>\n      <td>0.3</td>\n      <td>12.30</td>\n      <td>2.5</td>\n    </tr>\n    <tr>\n      <th>4</th>\n      <td>2.0</td>\n      <td>2020-12-19 11:56:43</td>\n      <td>2020-12-19 12:08:43</td>\n      <td>1.0</td>\n      <td>1.55</td>\n      <td>1.0</td>\n      <td>N</td>\n      <td>24</td>\n      <td>74</td>\n      <td>1.0</td>\n      <td>9.5</td>\n      <td>0.0</td>\n      <td>0.5</td>\n      <td>2.58</td>\n      <td>0.0</td>\n      <td>0.3</td>\n      <td>12.88</td>\n      <td>0.0</td>\n    </tr>\n  </tbody>\n</table>\n</div>"
     },
     "execution_count": 7,
     "metadata": {},
     "output_type": "execute_result"
    }
   ],
   "source": [
    "df.head()"
   ],
   "metadata": {
    "collapsed": false,
    "pycharm": {
     "name": "#%%\n"
    }
   }
  }
 ],
 "metadata": {
  "kernelspec": {
   "display_name": "Python 3",
   "language": "python",
   "name": "python3"
  },
  "language_info": {
   "codemirror_mode": {
    "name": "ipython",
    "version": 2
   },
   "file_extension": ".py",
   "mimetype": "text/x-python",
   "name": "python",
   "nbconvert_exporter": "python",
   "pygments_lexer": "ipython2",
   "version": "2.7.6"
  }
 },
 "nbformat": 4,
 "nbformat_minor": 0
}